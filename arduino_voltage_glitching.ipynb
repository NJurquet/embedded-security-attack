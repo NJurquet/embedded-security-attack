{
 "cells": [
  {
   "cell_type": "markdown",
   "id": "fbdcf2c1",
   "metadata": {},
   "source": [
    "# Voltage glitching on Arduino UNO"
   ]
  },
  {
   "cell_type": "code",
   "execution_count": 3,
   "id": "b78a9e57-39ef-41c0-9744-112c82f1e1a1",
   "metadata": {},
   "outputs": [],
   "source": [
    "SCOPETYPE = 'CWNANO'\n",
    "PLATFORM = 'CWNANO'\n",
    "SS_VER = 'SS_VER_2_1'"
   ]
  },
  {
   "cell_type": "code",
   "execution_count": null,
   "id": "5202c278-f076-4553-88a2-64e356c217c3",
   "metadata": {},
   "outputs": [],
   "source": [
    "# %run \"../../Setup_Scripts/Setup_Generic.ipynb\""
   ]
  },
  {
   "cell_type": "markdown",
   "id": "6e173d4e-6a4f-4a18-aba3-410d8317dd55",
   "metadata": {},
   "source": [
    "## Connect to ChipWhisperer"
   ]
  },
  {
   "cell_type": "code",
   "execution_count": 54,
   "id": "283383b4-224c-453f-a823-640b460a8de2",
   "metadata": {},
   "outputs": [
    {
     "name": "stdout",
     "output_type": "stream",
     "text": [
      "INFO: Caught exception on reconnecting to target - attempting to reconnect to scope first.\n",
      "INFO: This is a work-around when USB has died without Python knowing. Ignore errors above this line.\n",
      "INFO: Found ChipWhisperer😍\n"
     ]
    }
   ],
   "source": [
    "import chipwhisperer as cw\n",
    "\n",
    "try:\n",
    "    if not scope.connectStatus:\n",
    "        scope.con()\n",
    "except NameError:\n",
    "    scope = cw.scope()\n",
    "\n",
    "try:\n",
    "    if SS_VER == \"SS_VER_2_1\":\n",
    "        target_type = cw.targets.SimpleSerial2\n",
    "    elif SS_VER == \"SS_VER_2_0\":\n",
    "        raise OSError(\"SS_VER_2_0 is deprecated. Use SS_VER_2_1\")\n",
    "    else:\n",
    "        target_type = cw.targets.SimpleSerial\n",
    "except:\n",
    "    SS_VER=\"SS_VER_1_1\"\n",
    "    target_type = cw.targets.SimpleSerial\n",
    "\n",
    "try:\n",
    "    target = cw.target(scope, target_type)\n",
    "except:\n",
    "    print(\"INFO: Caught exception on reconnecting to target - attempting to reconnect to scope first.\")\n",
    "    print(\"INFO: This is a work-around when USB has died without Python knowing. Ignore errors above this line.\")\n",
    "    scope = cw.scope()\n",
    "    target = cw.target(scope, target_type)\n",
    "\n",
    "\n",
    "print(\"INFO: Found ChipWhisperer😍\")"
   ]
  },
  {
   "cell_type": "code",
   "execution_count": 5,
   "id": "2bd09eb5-272b-41fa-86a1-75f5d8a468be",
   "metadata": {},
   "outputs": [],
   "source": [
    "if \"STM\" in PLATFORM or PLATFORM == \"CWLITEARM\" or PLATFORM == \"CWNANO\":\n",
    "    prog = cw.programmers.STM32FProgrammer\n",
    "elif PLATFORM == \"CW303\" or PLATFORM == \"CWLITEXMEGA\":\n",
    "    prog = cw.programmers.XMEGAProgrammer\n",
    "elif \"neorv32\" in PLATFORM.lower():\n",
    "    prog = cw.programmers.NEORV32Programmer\n",
    "elif PLATFORM == \"CW308_SAM4S\" or PLATFORM == \"CWHUSKY\":\n",
    "    prog = cw.programmers.SAM4SProgrammer\n",
    "else:\n",
    "    prog = None"
   ]
  },
  {
   "cell_type": "code",
   "execution_count": 6,
   "id": "b0e6962e-ac71-4c9b-a8c5-68abf76b536c",
   "metadata": {},
   "outputs": [],
   "source": [
    "import time\n",
    "time.sleep(0.05)\n",
    "scope.default_setup()\n",
    "\n",
    "def reset_target(scope):\n",
    "    if PLATFORM == \"CW303\" or PLATFORM == \"CWLITEXMEGA\":\n",
    "        scope.io.pdic = 'low'\n",
    "        time.sleep(0.1)\n",
    "        scope.io.pdic = 'high_z' #XMEGA doesn't like pdic driven high\n",
    "        time.sleep(0.1) #xmega needs more startup time\n",
    "    elif \"neorv32\" in PLATFORM.lower():\n",
    "        raise IOError(\"Default iCE40 neorv32 build does not have external reset - reprogram device to reset\")\n",
    "    elif PLATFORM == \"CW308_SAM4S\" or PLATFORM == \"CWHUSKY\":\n",
    "        scope.io.nrst = 'low'\n",
    "        time.sleep(0.25)\n",
    "        scope.io.nrst = 'high_z'\n",
    "        time.sleep(0.25)\n",
    "    else:  \n",
    "        scope.io.nrst = 'low'\n",
    "        time.sleep(0.05)\n",
    "        scope.io.nrst = 'high_z'\n",
    "        time.sleep(0.05)"
   ]
  },
  {
   "cell_type": "markdown",
   "id": "fd4ea4a9-ef98-4e10-951d-58d870277000",
   "metadata": {},
   "source": [
    "## Firmware for external target usage\n",
    "\n",
    "To avoid having the STM32F0 GPIOs driven by the CW-Nano when interacting with an external target, set them as high impedance."
   ]
  },
  {
   "cell_type": "code",
   "execution_count": 8,
   "id": "b6c73a03-9d06-4fef-bb2b-671d4ccbdfe9",
   "metadata": {
    "scrolled": true
   },
   "outputs": [
    {
     "name": "stdout",
     "output_type": "stream",
     "text": [
      "SS_VER set to SS_VER_2_1\n",
      "SS_VER set to SS_VER_2_1\n",
      "arm-none-eabi-gcc (15:13.2.rel1-2) 13.2.1 20231009\n",
      "Copyright (C) 2023 Free Software Foundation, Inc.\n",
      "This is free software; see the source for copying conditions.  There is NO\n",
      "warranty; not even for MERCHANTABILITY or FITNESS FOR A PARTICULAR PURPOSE.\n",
      "\n",
      "mkdir -p objdir-CWNANO \n",
      ".\n",
      "Welcome to another exciting ChipWhisperer target build!!\n",
      ".\n",
      ".\n",
      ".\n",
      ".\n",
      ".\n",
      "Compiling:\n",
      ".\n",
      "Compiling:\n",
      "Compiling:\n",
      "Compiling:\n",
      "Compiling:\n",
      "Assembling: ../../../firmware/mcu/hal//stm32f0/stm32f0_startup.S\n",
      "arm-none-eabi-gcc -c -mcpu=cortex-m0 -I. -x assembler-with-cpp -mthumb -mfloat-abi=soft -ffunction-sections -DF_CPU=7372800 -Wa,-gstabs,-adhlns=objdir-CWNANO/stm32f0_startup.lst -I../../../firmware/mcu/simpleserial/ -I../../../firmware/mcu/hal/ -I../../../firmware/mcu/hal/ -I../../../firmware/mcu/hal//stm32f0 -I../../../firmware/mcu/hal//stm32f0/CMSIS -I../../../firmware/mcu/hal//stm32f0/CMSIS/core -I../../../firmware/mcu/hal//stm32f0/CMSIS/device -I../../../firmware/mcu/hal//stm32f0/Legacy -I../../../firmware/mcu/simpleserial/ -I../../../firmware/mcu/crypto/ ../../../firmware/mcu/hal//stm32f0/stm32f0_startup.S -o objdir-CWNANO/stm32f0_startup.o\n",
      "-en     ../../../firmware/mcu/simpleserial/simpleserial.c ...\n",
      "-en     gpio-tristate.c ...\n",
      "-en     ../../../firmware/mcu/hal//stm32f0_nano/stm32f0_hal_nano.c ...\n",
      "-en     ../../../firmware/mcu/hal//stm32f0/stm32f0_hal_lowlevel.c ...\n",
      "-en     ../../../firmware/mcu/hal/hal.c ...\n",
      "-e Done!\n",
      "-e Done!\n",
      "-e Done!\n",
      "-e Done!\n",
      "-e Done!\n",
      ".\n",
      "LINKING:\n",
      "-en     arduino_voltage_glitching-CWNANO.elf ...\n"
     ]
    },
    {
     "name": "stderr",
     "output_type": "stream",
     "text": [
      "/usr/lib/gcc/arm-none-eabi/13.2.1/../../../arm-none-eabi/bin/ld: /usr/lib/gcc/arm-none-eabi/13.2.1/../../../arm-none-eabi/lib/thumb/v6-m/nofp/libg_nano.a(libc_a-closer.o): in function `_close_r':\n",
      "/build/newlib-38V0JC/newlib-4.4.0.20231231/build_nano/arm-none-eabi/thumb/v6-m/nofp/newlib/../../../../../../newlib/libc/reent/closer.c:47:(.text+0xc): warning: _close is not implemented and will always fail\n"
     ]
    },
    {
     "name": "stdout",
     "output_type": "stream",
     "text": [
      "/usr/lib/gcc/arm-none-eabi/13.2.1/../../../arm-none-eabi/bin/ld: /usr/lib/gcc/arm-none-eabi/13.2.1/../../../arm-none-eabi/lib/thumb/v6-m/nofp/libg_nano.a(libc_a-closer.o): note: the message above does not take linker garbage collection into account\n",
      "/usr/lib/gcc/arm-none-eabi/13.2.1/../../../arm-none-eabi/bin/ld: /usr/lib/gcc/arm-none-eabi/13.2.1/../../../arm-none-eabi/lib/thumb/v6-m/nofp/libg_nano.a(libc_a-lseekr.o): note: the message above does not take linker garbage collection into account\n",
      "/usr/lib/gcc/arm-none-eabi/13.2.1/../../../arm-none-eabi/bin/ld: /usr/lib/gcc/arm-none-eabi/13.2.1/../../../arm-none-eabi/lib/thumb/v6-m/nofp/libg_nano.a(libc_a-readr.o): note: the message above does not take linker garbage collection into account\n"
     ]
    },
    {
     "name": "stderr",
     "output_type": "stream",
     "text": [
      "/usr/lib/gcc/arm-none-eabi/13.2.1/../../../arm-none-eabi/bin/ld: /usr/lib/gcc/arm-none-eabi/13.2.1/../../../arm-none-eabi/lib/thumb/v6-m/nofp/libg_nano.a(libc_a-lseekr.o): in function `_lseek_r':\n",
      "/build/newlib-38V0JC/newlib-4.4.0.20231231/build_nano/arm-none-eabi/thumb/v6-m/nofp/newlib/../../../../../../newlib/libc/reent/lseekr.c:49:(.text+0x10): warning: _lseek is not implemented and will always fail\n",
      "/usr/lib/gcc/arm-none-eabi/13.2.1/../../../arm-none-eabi/bin/ld: /usr/lib/gcc/arm-none-eabi/13.2.1/../../../arm-none-eabi/lib/thumb/v6-m/nofp/libg_nano.a(libc_a-readr.o): in function `_read_r':\n",
      "/build/newlib-38V0JC/newlib-4.4.0.20231231/build_nano/arm-none-eabi/thumb/v6-m/nofp/newlib/../../../../../../newlib/libc/reent/readr.c:49:(.text+0x10): warning: _read is not implemented and will always fail\n",
      "/usr/lib/gcc/arm-none-eabi/13.2.1/../../../arm-none-eabi/bin/ld: /usr/lib/gcc/arm-none-eabi/13.2.1/../../../arm-none-eabi/lib/thumb/v6-m/nofp/libg_nano.a(libc_a-writer.o): in function `_write_r':\n",
      "/build/newlib-38V0JC/newlib-4.4.0.20231231/build_nano/arm-none-eabi/thumb/v6-m/nofp/newlib/../../../../../../newlib/libc/reent/writer.c:49:(.text+0x10): warning: _write is not implemented and will always fail\n"
     ]
    },
    {
     "name": "stdout",
     "output_type": "stream",
     "text": [
      "/usr/lib/gcc/arm-none-eabi/13.2.1/../../../arm-none-eabi/bin/ld: /usr/lib/gcc/arm-none-eabi/13.2.1/../../../arm-none-eabi/lib/thumb/v6-m/nofp/libg_nano.a(libc_a-writer.o): note: the message above does not take linker garbage collection into account\n",
      "-e Done!\n",
      ".\n",
      ".\n",
      ".\n",
      ".\n",
      ".\n",
      "Creating load file for Flash: arduino_voltage_glitching-CWNANO.hex\n",
      "Creating load file for Flash: arduino_voltage_glitching-CWNANO.bin\n",
      "arm-none-eabi-objcopy -O ihex -R .eeprom -R .fuse -R .lock -R .signature arduino_voltage_glitching-CWNANO.elf arduino_voltage_glitching-CWNANO.hex\n",
      "arm-none-eabi-objcopy -O binary -R .eeprom -R .fuse -R .lock -R .signature arduino_voltage_glitching-CWNANO.elf arduino_voltage_glitching-CWNANO.bin\n",
      "Creating load file for EEPROM: arduino_voltage_glitching-CWNANO.eep\n",
      "Creating Extended Listing: arduino_voltage_glitching-CWNANO.lss\n",
      "arm-none-eabi-objcopy -j .eeprom --set-section-flags=.eeprom=\"alloc,load\" \\\n",
      "--change-section-lma .eeprom=0 --no-change-warnings -O ihex arduino_voltage_glitching-CWNANO.elf arduino_voltage_glitching-CWNANO.eep || exit 0\n",
      "Creating Symbol Table: arduino_voltage_glitching-CWNANO.sym\n",
      "arm-none-eabi-objdump -h -S -z arduino_voltage_glitching-CWNANO.elf > arduino_voltage_glitching-CWNANO.lss\n",
      "arm-none-eabi-nm -n arduino_voltage_glitching-CWNANO.elf > arduino_voltage_glitching-CWNANO.sym\n",
      "Size after:\n",
      "   text\t   data\t    bss\t    dec\t    hex\tfilename\n",
      "   2444\t     12\t   1060\t   3516\t    dbc\tarduino_voltage_glitching-CWNANO.elf\n",
      "+--------------------------------------------------------\n",
      "+ Default target does full rebuild each time.\n",
      "+ Specify buildtarget == allquick == to avoid full rebuild\n",
      "+--------------------------------------------------------\n",
      "+--------------------------------------------------------\n",
      "+ Built for platform CWNANO Built-in Target (STM32F030) with:\n",
      "+ CRYPTO_TARGET = NONE\n",
      "+ CRYPTO_OPTIONS = \n",
      "+--------------------------------------------------------\n"
     ]
    }
   ],
   "source": [
    "%%bash -s \"$PLATFORM\" \"$SS_VER\"\n",
    "cd ./firmware\n",
    "make PLATFORM=$1 CRYPTO_TARGET=NONE SS_VER=$2 -j"
   ]
  },
  {
   "cell_type": "code",
   "execution_count": 11,
   "id": "c68549b3-2cf9-42f7-a98d-7440cd2bad40",
   "metadata": {},
   "outputs": [
    {
     "name": "stdout",
     "output_type": "stream",
     "text": [
      "Detected known STMF32: STM32F04xxx\n",
      "Extended erase (0x44), this can take ten seconds or more\n",
      "Attempting to program 2455 bytes at 0x8000000\n",
      "STM32F Programming flash...\n",
      "STM32F Reading flash...\n",
      "Verified flash OK, 2455 bytes\n"
     ]
    }
   ],
   "source": [
    "fw_path = f\"./firmware/arduino_voltage_glitching-{PLATFORM}.hex\"\n",
    "cw.program_target(scope, prog, fw_path)"
   ]
  },
  {
   "cell_type": "markdown",
   "id": "3a815d6b-ce3e-49d2-b935-8d11cf808478",
   "metadata": {},
   "source": [
    "## Attack"
   ]
  },
  {
   "cell_type": "code",
   "execution_count": 58,
   "id": "3924df36",
   "metadata": {},
   "outputs": [
    {
     "name": "stdout",
     "output_type": "stream",
     "text": [
      "COM3: ChipWhisperer USB port\n",
      "COM7: USB-SERIAL CH340 (COM7)\n",
      "\n",
      ">> ACCESS DENIED\n",
      "\n",
      "Enter password:\n",
      "No input. Enter password:\n"
     ]
    }
   ],
   "source": [
    "import chipwhisperer as cw\n",
    "import serial\n",
    "import serial.tools.list_ports\n",
    "import time\n",
    "\n",
    "cw.set_all_log_levels(cw.logging.CRITICAL)\n",
    "\n",
    "try:\n",
    "    # print(scope)\n",
    "\n",
    "    # Setup serial communication\n",
    "    ser_port = \"\"\n",
    "    print(f\"{scope.get_serial_ports()[0][\"port\"]}: ChipWhisperer USB port\")\n",
    "    ports = serial.tools.list_ports.comports()\n",
    "    for port, desc, _ in sorted(ports):\n",
    "        if \"CH340\" in desc:\n",
    "            print(f\"{port}: {desc}\\n\")\n",
    "            ser_port = port\n",
    "    ser = serial.Serial(ser_port, 9600, timeout=.1)  # adjust port as needed\n",
    "\n",
    "    reset_target(scope)\n",
    "\n",
    "    # Send a wrong password\n",
    "    ser.write(b\"password\\n\")\n",
    "    time.sleep(0.05)\n",
    "    ser.write(b\"\\n\")\n",
    "    # Read all response lines\n",
    "    for line in ser.readlines():\n",
    "        print(line.decode().strip())\n",
    "\n",
    "finally:\n",
    "    ser.close()\n",
    "\n",
    "cw.set_all_log_levels(cw.logging.WARNING)"
   ]
  },
  {
   "cell_type": "code",
   "execution_count": 52,
   "id": "2a4b85fb-e14a-4572-ba8f-cac4803cf1cf",
   "metadata": {},
   "outputs": [],
   "source": [
    "scope.dis()\n",
    "target.dis()"
   ]
  },
  {
   "cell_type": "code",
   "execution_count": null,
   "id": "ff053064-6832-4d25-ae75-f224a3becb83",
   "metadata": {},
   "outputs": [],
   "source": []
  }
 ],
 "metadata": {
  "kernelspec": {
   "display_name": "Python 3 (ipykernel)",
   "language": "python",
   "name": "python3"
  },
  "language_info": {
   "codemirror_mode": {
    "name": "ipython",
    "version": 3
   },
   "file_extension": ".py",
   "mimetype": "text/x-python",
   "name": "python",
   "nbconvert_exporter": "python",
   "pygments_lexer": "ipython3",
   "version": "3.12.9"
  }
 },
 "nbformat": 4,
 "nbformat_minor": 5
}
